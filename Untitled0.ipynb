{
  "nbformat": 4,
  "nbformat_minor": 0,
  "metadata": {
    "colab": {
      "provenance": [],
      "authorship_tag": "ABX9TyOsdra1Ns56GtoQloYzXc3A",
      "include_colab_link": true
    },
    "kernelspec": {
      "name": "python3",
      "display_name": "Python 3"
    },
    "language_info": {
      "name": "python"
    }
  },
  "cells": [
    {
      "cell_type": "markdown",
      "metadata": {
        "id": "view-in-github",
        "colab_type": "text"
      },
      "source": [
        "<a href=\"https://colab.research.google.com/github/KrutikaChincholkar/Armstrom/blob/main/Untitled0.ipynb\" target=\"_parent\"><img src=\"https://colab.research.google.com/assets/colab-badge.svg\" alt=\"Open In Colab\"/></a>"
      ]
    },
    {
      "cell_type": "code",
      "execution_count": null,
      "metadata": {
        "colab": {
          "base_uri": "https://localhost:8080/"
        },
        "id": "aDztKSSpZm2a",
        "outputId": "5653bc0b-9a3e-4771-ed44-d23946740e38"
      },
      "outputs": [
        {
          "output_type": "stream",
          "name": "stdout",
          "text": [
            "Mean Squared Error:0.158\n"
          ]
        }
      ],
      "source": [
        "def mean_squared_error(y_true, y_pred):\n",
        "  error = y_true-y_pred\n",
        "  mse = np.mean(np.square(error))\n",
        "  return mse\n",
        "\n",
        "\n",
        "import numpy as np\n",
        "true_value = np.array([2,4,5,4,5])\n",
        "predicted_value = np.array([1.5,3.5,4.5,4.0,5.2])\n",
        "mse = mean_squared_error(true_value, predicted_value)\n",
        "print(f'Mean Squared Error:{mse}')\n",
        "\n"
      ]
    },
    {
      "cell_type": "code",
      "source": [
        "#Importing library\n",
        "import sympy as sym\n",
        "x,y,z = sym.symbols('x y z')\n",
        "exp = x**3 * y + y**3 + z\n",
        "derivative1_x = sym.diff(exp, x)\n",
        "print('derivative w.r.t x: ', derivative1_x)\n",
        "derivative1_y = sym.diff(exp, y)\n",
        "print('derivative w.r.t y: ', derivative1_y)\n",
        "\n",
        "integral1 = sym.integrate(sym.cos(x), x)\n",
        "print('indefinite integral of cos(x): ', integral1)\n",
        "\n",
        "integral2 = sym.integrate(sym.cos(x), (x, -1, 1))\n",
        "print('definite integral of cos(x) between -1 to 1: ', integral2)\n",
        "\n",
        "integral3 = sym.integrate(sym.exp(-x), (x, 0, sym.oo))\n",
        "print('definite integral of exp(-x) between 0 to oo: ', integral3)"
      ],
      "metadata": {
        "colab": {
          "base_uri": "https://localhost:8080/"
        },
        "id": "I_poCWSBc-xF",
        "outputId": "e60622bc-64a5-48c5-e640-61b0899bb295"
      },
      "execution_count": null,
      "outputs": [
        {
          "output_type": "stream",
          "name": "stdout",
          "text": [
            "derivative w.r.t x:  3*x**2*y\n",
            "derivative w.r.t y:  x**3 + 3*y**2\n",
            "indefinite integral of cos(x):  sin(x)\n",
            "definite integral of cos(x) between -1 to 1:  2*sin(1)\n",
            "definite integral of exp(-x) between 0 to oo:  1\n"
          ]
        }
      ]
    },
    {
      "cell_type": "code",
      "source": [
        "'''find the jacobian of the function\n",
        "u =2x-3y\n",
        "y=5x+4y\n",
        "d(u,v)/d(x,y) '''\n",
        "from sympy import*\n",
        "import numpy as np\n",
        "var('x y')\n",
        "u = 2*x - 3*y\n",
        "v = 5*x + 4*y\n",
        "A=Matrix([u, v])\n",
        "Jmatrix = A.jacobian([x, y])\n",
        "print('Jacobian matrix- ')\n",
        "print(Jmatrix)\n",
        "J = det(Jmatrix)\n",
        "print(' Jacobian = ', J)"
      ],
      "metadata": {
        "id": "FNtJiTodd_fw",
        "colab": {
          "base_uri": "https://localhost:8080/"
        },
        "outputId": "64d98210-8a0b-43f7-d9a4-858f7eb5d0a1"
      },
      "execution_count": null,
      "outputs": [
        {
          "output_type": "stream",
          "name": "stdout",
          "text": [
            "Jacobian matrix- \n",
            "Matrix([[2, -3], [5, 4]])\n",
            " Jacobian =  23\n"
          ]
        }
      ]
    },
    {
      "cell_type": "code",
      "source": [
        "import sympy as sp\n",
        "x.y = sp.symbols('x y')\n",
        "scalar_function = x**2 + 2* y**2 + 3 * x * y + 4\n",
        "hessian_matrix = sp.hessian(scalar_functon,(x, y))\n",
        "initial_point = {x: 1, y: 2}\n",
        "hessian_at_point = hessian_matrix.subs(initial_point)\n",
        "print(\"Scalar Function:\")\n",
        "print(scalar_function)\n",
        "print(\"\\nHessian Matrix \")\n",
        "print(hessian_matrix)\n",
        "print(hessian_point)"
      ],
      "metadata": {
        "colab": {
          "base_uri": "https://localhost:8080/",
          "height": 245
        },
        "id": "DhQXQ0ud6JdB",
        "outputId": "80363afa-f953-43ce-cf40-73599b563da3"
      },
      "execution_count": null,
      "outputs": [
        {
          "output_type": "error",
          "ename": "AttributeError",
          "evalue": "'Symbol' object has no attribute 'y'",
          "traceback": [
            "\u001b[0;31m---------------------------------------------------------------------------\u001b[0m",
            "\u001b[0;31mAttributeError\u001b[0m                            Traceback (most recent call last)",
            "\u001b[0;32m<ipython-input-5-d76c6e21e074>\u001b[0m in \u001b[0;36m<cell line: 2>\u001b[0;34m()\u001b[0m\n\u001b[1;32m      1\u001b[0m \u001b[0;32mimport\u001b[0m \u001b[0msympy\u001b[0m \u001b[0;32mas\u001b[0m \u001b[0msp\u001b[0m\u001b[0;34m\u001b[0m\u001b[0;34m\u001b[0m\u001b[0m\n\u001b[0;32m----> 2\u001b[0;31m \u001b[0mx\u001b[0m\u001b[0;34m.\u001b[0m\u001b[0my\u001b[0m \u001b[0;34m=\u001b[0m \u001b[0msp\u001b[0m\u001b[0;34m.\u001b[0m\u001b[0msymbols\u001b[0m\u001b[0;34m(\u001b[0m\u001b[0;34m'x y'\u001b[0m\u001b[0;34m)\u001b[0m\u001b[0;34m\u001b[0m\u001b[0;34m\u001b[0m\u001b[0m\n\u001b[0m\u001b[1;32m      3\u001b[0m \u001b[0mscalar_function\u001b[0m \u001b[0;34m=\u001b[0m \u001b[0mx\u001b[0m\u001b[0;34m**\u001b[0m\u001b[0;36m2\u001b[0m \u001b[0;34m+\u001b[0m \u001b[0;36m2\u001b[0m\u001b[0;34m*\u001b[0m \u001b[0my\u001b[0m\u001b[0;34m**\u001b[0m\u001b[0;36m2\u001b[0m \u001b[0;34m+\u001b[0m \u001b[0;36m3\u001b[0m \u001b[0;34m*\u001b[0m \u001b[0mx\u001b[0m \u001b[0;34m*\u001b[0m \u001b[0my\u001b[0m \u001b[0;34m+\u001b[0m \u001b[0;36m4\u001b[0m\u001b[0;34m\u001b[0m\u001b[0;34m\u001b[0m\u001b[0m\n\u001b[1;32m      4\u001b[0m \u001b[0mhessian_matrix\u001b[0m \u001b[0;34m=\u001b[0m \u001b[0msp\u001b[0m\u001b[0;34m.\u001b[0m\u001b[0mhessian\u001b[0m\u001b[0;34m(\u001b[0m\u001b[0mscalar_functon\u001b[0m\u001b[0;34m,\u001b[0m\u001b[0;34m(\u001b[0m\u001b[0mx\u001b[0m\u001b[0;34m,\u001b[0m \u001b[0my\u001b[0m\u001b[0;34m)\u001b[0m\u001b[0;34m)\u001b[0m\u001b[0;34m\u001b[0m\u001b[0;34m\u001b[0m\u001b[0m\n\u001b[1;32m      5\u001b[0m \u001b[0minitial_point\u001b[0m \u001b[0;34m=\u001b[0m \u001b[0;34m{\u001b[0m\u001b[0mx\u001b[0m\u001b[0;34m:\u001b[0m \u001b[0;36m1\u001b[0m\u001b[0;34m,\u001b[0m \u001b[0my\u001b[0m\u001b[0;34m:\u001b[0m \u001b[0;36m2\u001b[0m\u001b[0;34m}\u001b[0m\u001b[0;34m\u001b[0m\u001b[0;34m\u001b[0m\u001b[0m\n",
            "\u001b[0;31mAttributeError\u001b[0m: 'Symbol' object has no attribute 'y'"
          ]
        }
      ]
    },
    {
      "cell_type": "code",
      "source": [
        "from sklearn.feature_extraction.text import CountVectorizer\n",
        "text_data = ['This is a sample sentence.', 'Another example sentence.']\n",
        "vectorizer = CountVectorizer()\n",
        "X = vectorizer.fit_transform(text_data)"
      ],
      "metadata": {
        "id": "3Jh5Ggt2Farf"
      },
      "execution_count": null,
      "outputs": []
    },
    {
      "cell_type": "code",
      "source": [
        "#get_dummies\n",
        "import pandas as pd\n",
        "df=pd.DataFrame({'country':['russia','germany', 'australia','korea','germany']})\n",
        "print(df)\n",
        "p=pd.get_dummies(df,prefix=['country'])\n",
        "print(p)"
      ],
      "metadata": {
        "colab": {
          "base_uri": "https://localhost:8080/"
        },
        "id": "lUPAA87HCGhQ",
        "outputId": "96e27b11-8f81-41c1-c3dd-a997de54c889"
      },
      "execution_count": null,
      "outputs": [
        {
          "output_type": "stream",
          "name": "stdout",
          "text": [
            "     country\n",
            "0     russia\n",
            "1    germany\n",
            "2  australia\n",
            "3      korea\n",
            "4    germany\n",
            "   country_australia  country_germany  country_korea  country_russia\n",
            "0                  0                0              0               1\n",
            "1                  0                1              0               0\n",
            "2                  1                0              0               0\n",
            "3                  0                0              1               0\n",
            "4                  0                1              0               0\n"
          ]
        }
      ]
    },
    {
      "cell_type": "code",
      "source": [
        "from sklearn.preprocessing import MinMaxScaler\n",
        "import numpy as np\n",
        "\n",
        "data = np.array([[1.0, 2.0], [3.0, 4.0], [5.0, 6.0]])\n",
        "scaler = MinMaxScaler()\n",
        "normalized_data = scaler.fit_transform(data)"
      ],
      "metadata": {
        "id": "TqsPC0ldgeN5"
      },
      "execution_count": null,
      "outputs": []
    },
    {
      "cell_type": "code",
      "source": [
        "import pandas as pd\n",
        "df_pd.read_csv(\"https://drive.google.com/file/d/1ixSu4H487cElEJJHD1edXD3tYX2Y4dKa/view?usp=drive_link\")\n",
        "res = df.isnull()"
      ],
      "metadata": {
        "colab": {
          "base_uri": "https://localhost:8080/",
          "height": 210
        },
        "id": "yh6oDyN5XV7x",
        "outputId": "623026be-c20d-413e-c810-8dad2a9bbf9f"
      },
      "execution_count": null,
      "outputs": [
        {
          "output_type": "error",
          "ename": "NameError",
          "evalue": "name 'df_pd' is not defined",
          "traceback": [
            "\u001b[0;31m---------------------------------------------------------------------------\u001b[0m",
            "\u001b[0;31mNameError\u001b[0m                                 Traceback (most recent call last)",
            "\u001b[0;32m<ipython-input-7-3fe5f7585dbc>\u001b[0m in \u001b[0;36m<cell line: 2>\u001b[0;34m()\u001b[0m\n\u001b[1;32m      1\u001b[0m \u001b[0;32mimport\u001b[0m \u001b[0mpandas\u001b[0m \u001b[0;32mas\u001b[0m \u001b[0mpd\u001b[0m\u001b[0;34m\u001b[0m\u001b[0;34m\u001b[0m\u001b[0m\n\u001b[0;32m----> 2\u001b[0;31m \u001b[0mdf_pd\u001b[0m\u001b[0;34m.\u001b[0m\u001b[0mread_csv\u001b[0m\u001b[0;34m(\u001b[0m\u001b[0;34m\"https://drive.google.com/file/d/1ixSu4H487cElEJJHD1edXD3tYX2Y4dKa/view?usp=drive_link\"\u001b[0m\u001b[0;34m)\u001b[0m\u001b[0;34m\u001b[0m\u001b[0;34m\u001b[0m\u001b[0m\n\u001b[0m\u001b[1;32m      3\u001b[0m \u001b[0mres\u001b[0m \u001b[0;34m=\u001b[0m \u001b[0mdf\u001b[0m\u001b[0;34m.\u001b[0m\u001b[0misnull\u001b[0m\u001b[0;34m(\u001b[0m\u001b[0;34m)\u001b[0m\u001b[0;34m\u001b[0m\u001b[0;34m\u001b[0m\u001b[0m\n",
            "\u001b[0;31mNameError\u001b[0m: name 'df_pd' is not defined"
          ]
        }
      ]
    },
    {
      "cell_type": "code",
      "source": [
        "#correlation coefficient\n",
        "import numpy as np\n",
        "x=np.array([1,2,3,4,5])\n",
        "y=np.array([2,4,5,4,5])\n",
        "correlation_coefficient=np.corrcoef(x,y)[0,1]"
      ],
      "metadata": {
        "id": "TQHKMwllDZPG"
      },
      "execution_count": null,
      "outputs": []
    }
  ]
}