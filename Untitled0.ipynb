{
  "nbformat": 4,
  "nbformat_minor": 0,
  "metadata": {
    "colab": {
      "provenance": [],
      "toc_visible": true,
      "authorship_tag": "ABX9TyOgyVrjvKt8/u0fPmBNULMD",
      "include_colab_link": true
    },
    "kernelspec": {
      "name": "python3",
      "display_name": "Python 3"
    },
    "language_info": {
      "name": "python"
    }
  },
  "cells": [
    {
      "cell_type": "markdown",
      "metadata": {
        "id": "view-in-github",
        "colab_type": "text"
      },
      "source": [
        "<a href=\"https://colab.research.google.com/github/KrutikaChincholkar/Armstrom/blob/main/Untitled0.ipynb\" target=\"_parent\"><img src=\"https://colab.research.google.com/assets/colab-badge.svg\" alt=\"Open In Colab\"/></a>"
      ]
    },
    {
      "cell_type": "code",
      "execution_count": 6,
      "metadata": {
        "colab": {
          "base_uri": "https://localhost:8080/"
        },
        "id": "ytS2J1ttroV-",
        "outputId": "1ddffb5d-5dda-45bc-d2e5-98a83761fc6c"
      },
      "outputs": [
        {
          "output_type": "stream",
          "name": "stdout",
          "text": [
            "derivative w.r.t x:  3*x**2*y\n",
            "derivative w.r.t y:  x**3 + 3*y**2\n",
            "second derivative w.r.t. x:  6*x*y\n",
            "second derivative w.r.t. y:  6*y\n",
            "third derivative w.r.t. x:  6*y\n",
            "third derivative w.r.t. y:  6\n"
          ]
        }
      ],
      "source": [
        "# Importing library\n",
        "import sympy as sym\n",
        "\n",
        "# Declaring variables\n",
        "x, y, z = sym.symbols('x y z')\n",
        "\n",
        "# expression of which we have to find derivative\n",
        "exp = x**3 * y + y**3 + z\n",
        "\n",
        "# Differentiating exp with respect to x\n",
        "derivative1_x = sym.diff(exp, x)\n",
        "print('derivative w.r.t x: ',\n",
        "      derivative1_x)\n",
        "\n",
        "# Differentiating exp with respect to y\n",
        "derivative1_y = sym.diff(exp, y)\n",
        "print('derivative w.r.t y: ',\n",
        "      derivative1_y)\n",
        "# Finding second derivative\n",
        "# of exp with respect to x\n",
        "derivative2_x = sym.diff(exp, x, 2)\n",
        "print('second derivative w.r.t. x: ',\n",
        "      derivative2_x)\n",
        "\n",
        "# Finding second derivative\n",
        "# of exp with respect to y\n",
        "derivative2_y = sym.diff(exp, y, 2)\n",
        "print('second derivative w.r.t. y: ',\n",
        "      derivative2_y)\n",
        "\n",
        "# Finding third derivative\n",
        "# of exp with respect to x\n",
        "\n",
        "derivative2_x = sym.diff(exp, x, 3)\n",
        "print('third derivative w.r.t. x: ',\n",
        "      derivative2_x)\n",
        "# Finding third derivative\n",
        "# of exp with respect to y\n",
        "derivative2_y = sym.diff(exp, y, 3)\n",
        "print('third derivative w.r.t. y: ',\n",
        "      derivative2_y)"
      ]
    },
    {
      "cell_type": "code",
      "source": [
        "# Indefinite integration of cos(x) w.r.t. dx\n",
        "integral1 = sym.integrate(sym.cos(x), x)\n",
        "print('indefinite integral of cos(x): ',\n",
        "      integral1)\n",
        "\n",
        "# definite integration of cos(x) w.r.t. dx between -1 to 1\n",
        "integral2 = sym.integrate(sym.cos(x), (x, -1, 1))\n",
        "print('definite integral of cos(x) between -1 to 1: ',\n",
        "      integral2)\n",
        "\n",
        "# definite integration of exp(-x) w.r.t. dx between 0 to ∞\n",
        "integral3 = sym.integrate(sym.exp(-x), (x, 0, sym.oo))\n",
        "print('definite integral of exp(-x) between 0 to ∞: ',\n",
        "      integral3)\n",
        "\n"
      ],
      "metadata": {
        "colab": {
          "base_uri": "https://localhost:8080/"
        },
        "id": "gbu4r85Ztwwe",
        "outputId": "e8455667-0f84-447d-fe31-706733c461c8"
      },
      "execution_count": 8,
      "outputs": [
        {
          "output_type": "stream",
          "name": "stdout",
          "text": [
            "indefinite integral of cos(x):  sin(x)\n",
            "definite integral of cos(x) between -1 to 1:  2*sin(1)\n",
            "definite integral of exp(-x) between 0 to ∞:  1\n"
          ]
        }
      ]
    },
    {
      "cell_type": "code",
      "source": [
        "# Calculating limit of f(x) = x as x->∞\n",
        "limit1 = sym.limit(x, x, sym.oo)\n",
        "print(limit1)\n",
        "\n",
        "# Calculating limit of f(x) = 1/x as x->∞\n",
        "limit2 = sym.limit(1/x, x, sym.oo)\n",
        "print(limit2)\n",
        "\n",
        "# Calculating limit of f(x) = sin(x)/x as x->0\n",
        "limit3 = sym.limit(sym.sin(x)/x, x, 0)\n",
        "print(limit3)"
      ],
      "metadata": {
        "colab": {
          "base_uri": "https://localhost:8080/"
        },
        "id": "Pu3iNIj6xWZM",
        "outputId": "6d360322-7550-4fb1-c34d-cf2fb617449b"
      },
      "execution_count": 11,
      "outputs": [
        {
          "output_type": "stream",
          "name": "stdout",
          "text": [
            "oo\n",
            "0\n",
            "1\n"
          ]
        }
      ]
    },
    {
      "cell_type": "code",
      "source": [
        "from google.colab import drive\n",
        "drive.mount('/content/drive')"
      ],
      "metadata": {
        "id": "hlJytA0qxpxS"
      },
      "execution_count": null,
      "outputs": []
    },
    {
      "cell_type": "code",
      "source": [
        "# assign series\n",
        "series1 = sym.series(sym.cos(x), x)\n",
        "print(series1)\n",
        "\n",
        "# assign series\n",
        "series2 = sym.series(1/sym.cos(x), x, 0, 4)\n",
        "print(series2)\n"
      ],
      "metadata": {
        "colab": {
          "base_uri": "https://localhost:8080/"
        },
        "id": "aAGfYZ2Rxaz7",
        "outputId": "bdd9d74d-fc63-4357-bf5b-bffedb4de6ee"
      },
      "execution_count": 10,
      "outputs": [
        {
          "output_type": "stream",
          "name": "stdout",
          "text": [
            "1 - x**2/2 + x**4/24 + O(x**6)\n",
            "1 + x**2/2 + O(x**4)\n"
          ]
        }
      ]
    }
  ]
}