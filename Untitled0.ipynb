{
  "nbformat": 4,
  "nbformat_minor": 0,
  "metadata": {
    "colab": {
      "provenance": [],
      "authorship_tag": "ABX9TyMDjb4elS6FiX/MzbjpuB1q",
      "include_colab_link": true
    },
    "kernelspec": {
      "name": "python3",
      "display_name": "Python 3"
    },
    "language_info": {
      "name": "python"
    }
  },
  "cells": [
    {
      "cell_type": "markdown",
      "metadata": {
        "id": "view-in-github",
        "colab_type": "text"
      },
      "source": [
        "<a href=\"https://colab.research.google.com/github/KrutikaChincholkar/Armstrom/blob/main/Untitled0.ipynb\" target=\"_parent\"><img src=\"https://colab.research.google.com/assets/colab-badge.svg\" alt=\"Open In Colab\"/></a>"
      ]
    },
    {
      "cell_type": "code",
      "execution_count": 6,
      "metadata": {
        "colab": {
          "base_uri": "https://localhost:8080/"
        },
        "id": "ytS2J1ttroV-",
        "outputId": "1ddffb5d-5dda-45bc-d2e5-98a83761fc6c"
      },
      "outputs": [
        {
          "output_type": "stream",
          "name": "stdout",
          "text": [
            "derivative w.r.t x:  3*x**2*y\n",
            "derivative w.r.t y:  x**3 + 3*y**2\n",
            "second derivative w.r.t. x:  6*x*y\n",
            "second derivative w.r.t. y:  6*y\n",
            "third derivative w.r.t. x:  6*y\n",
            "third derivative w.r.t. y:  6\n"
          ]
        }
      ],
      "source": [
        "# Importing library\n",
        "import sympy as sym\n",
        "\n",
        "# Declaring variables\n",
        "x, y, z = sym.symbols('x y z')\n",
        "\n",
        "# expression of which we have to find derivative\n",
        "exp = x**3 * y + y**3 + z\n",
        "\n",
        "# Differentiating exp with respect to x\n",
        "derivative1_x = sym.diff(exp, x)\n",
        "print('derivative w.r.t x: ',\n",
        "      derivative1_x)\n",
        "\n",
        "# Differentiating exp with respect to y\n",
        "derivative1_y = sym.diff(exp, y)\n",
        "print('derivative w.r.t y: ',\n",
        "      derivative1_y)\n",
        "# Finding second derivative\n",
        "# of exp with respect to x\n",
        "derivative2_x = sym.diff(exp, x, 2)\n",
        "print('second derivative w.r.t. x: ',\n",
        "      derivative2_x)\n",
        "\n",
        "# Finding second derivative\n",
        "# of exp with respect to y\n",
        "derivative2_y = sym.diff(exp, y, 2)\n",
        "print('second derivative w.r.t. y: ',\n",
        "      derivative2_y)\n",
        "\n",
        "# Finding third derivative\n",
        "# of exp with respect to x\n",
        "\n",
        "derivative2_x = sym.diff(exp, x, 3)\n",
        "print('third derivative w.r.t. x: ',\n",
        "      derivative2_x)\n",
        "# Finding third derivative\n",
        "# of exp with respect to y\n",
        "derivative2_y = sym.diff(exp, y, 3)\n",
        "print('third derivative w.r.t. y: ',\n",
        "      derivative2_y)"
      ]
    },
    {
      "cell_type": "code",
      "source": [
        "# Indefinite integration of cos(x) w.r.t. dx\n",
        "integral1 = sym.integrate(sym.cos(x), x)\n",
        "print('indefinite integral of cos(x): ',\n",
        "      integral1)\n",
        "\n",
        "# definite integration of cos(x) w.r.t. dx between -1 to 1\n",
        "integral2 = sym.integrate(sym.cos(x), (x, -1, 1))\n",
        "print('definite integral of cos(x) between -1 to 1: ',\n",
        "      integral2)\n",
        "\n",
        "# definite integration of exp(-x) w.r.t. dx between 0 to ∞\n",
        "integral3 = sym.integrate(sym.exp(-x), (x, 0, sym.oo))\n",
        "print('definite integral of exp(-x) between 0 to ∞: ',\n",
        "      integral3)\n",
        "\n"
      ],
      "metadata": {
        "colab": {
          "base_uri": "https://localhost:8080/"
        },
        "id": "gbu4r85Ztwwe",
        "outputId": "e8455667-0f84-447d-fe31-706733c461c8"
      },
      "execution_count": 8,
      "outputs": [
        {
          "output_type": "stream",
          "name": "stdout",
          "text": [
            "indefinite integral of cos(x):  sin(x)\n",
            "definite integral of cos(x) between -1 to 1:  2*sin(1)\n",
            "definite integral of exp(-x) between 0 to ∞:  1\n"
          ]
        }
      ]
    },
    {
      "cell_type": "code",
      "source": [
        "# Calculating limit of f(x) = x as x->∞\n",
        "limit1 = sym.limit(x, x, sym.oo)\n",
        "print(limit1)\n",
        "\n",
        "# Calculating limit of f(x) = 1/x as x->∞\n",
        "limit2 = sym.limit(1/x, x, sym.oo)\n",
        "print(limit2)\n",
        "\n",
        "# Calculating limit of f(x) = sin(x)/x as x->0\n",
        "limit3 = sym.limit(sym.sin(x)/x, x, 0)\n",
        "print(limit3)"
      ],
      "metadata": {
        "colab": {
          "base_uri": "https://localhost:8080/"
        },
        "id": "Pu3iNIj6xWZM",
        "outputId": "6d360322-7550-4fb1-c34d-cf2fb617449b"
      },
      "execution_count": 11,
      "outputs": [
        {
          "output_type": "stream",
          "name": "stdout",
          "text": [
            "oo\n",
            "0\n",
            "1\n"
          ]
        }
      ]
    },
    {
      "cell_type": "code",
      "source": [
        "from google.colab import drive\n",
        "drive.mount('/content/drive')"
      ],
      "metadata": {
        "id": "hlJytA0qxpxS"
      },
      "execution_count": null,
      "outputs": []
    },
    {
      "cell_type": "code",
      "source": [
        "# assign series\n",
        "series1 = sym.series(sym.cos(x), x)\n",
        "print(series1)\n",
        "\n",
        "# assign series\n",
        "series2 = sym.series(1/sym.cos(x), x, 0, 4)\n",
        "print(series2)\n"
      ],
      "metadata": {
        "colab": {
          "base_uri": "https://localhost:8080/"
        },
        "id": "aAGfYZ2Rxaz7",
        "outputId": "bdd9d74d-fc63-4357-bf5b-bffedb4de6ee"
      },
      "execution_count": 10,
      "outputs": [
        {
          "output_type": "stream",
          "name": "stdout",
          "text": [
            "1 - x**2/2 + x**4/24 + O(x**6)\n",
            "1 + x**2/2 + O(x**4)\n"
          ]
        }
      ]
    },
    {
      "cell_type": "code",
      "source": [
        "# Example usage\n",
        "import numpy as np\n",
        "def mean_squared_error(y_true, y_pred):\n",
        "    error = y_true - y_pred\n",
        "    mse = np.mean(np.square(error))\n",
        "    return mse\n",
        "true_values = np.array([2, 4, 5, 4, 5])\n",
        "predicted_values = np.array([1.5, 3.5, 4.5, 4.0, 5.2])\n",
        "\n",
        "mse = mean_squared_error(true_values, predicted_values)\n",
        "print(f'Mean Squared Error: {mse}')\n",
        "\n"
      ],
      "metadata": {
        "colab": {
          "base_uri": "https://localhost:8080/"
        },
        "id": "orw30xs44dCJ",
        "outputId": "cf806af5-79d4-40b2-e16b-ced47a144e62"
      },
      "execution_count": 16,
      "outputs": [
        {
          "output_type": "stream",
          "name": "stdout",
          "text": [
            "Mean Squared Error: 0.158\n"
          ]
        }
      ]
    },
    {
      "cell_type": "code",
      "source": [
        "# Inverse a matrix\n",
        "import numpy as np\n",
        "a = np.array([[2, 1, 0],[0,1,0],[1, 2, 1],])\n",
        "print(a, end=\" = a\\n\\n\")\n",
        "print(np.linalg.inv(a), end=\" = |a|\")"
      ],
      "metadata": {
        "colab": {
          "base_uri": "https://localhost:8080/"
        },
        "id": "rCANfvXp9GKy",
        "outputId": "3c15415c-6023-4225-b51c-d93f905903bb"
      },
      "execution_count": 18,
      "outputs": [
        {
          "output_type": "stream",
          "name": "stdout",
          "text": [
            "[[2 1 0]\n",
            " [0 1 0]\n",
            " [1 2 1]] = a\n",
            "\n",
            "[[ 0.5 -0.5  0. ]\n",
            " [ 0.   1.   0. ]\n",
            " [-0.5 -1.5  1. ]] = |a|"
          ]
        }
      ]
    },
    {
      "cell_type": "code",
      "source": [
        "\n",
        "from torch.autograd.functional import jacobian\n",
        "from torch import tensor\n",
        "\n",
        "#Defining the main function\n",
        "def f(x1,x2,x3):\n",
        "    return (x1 + x2, x3*x1, x2**3)\n",
        "\n",
        "#Defining input tensors\n",
        "x1 = tensor(3.0)\n",
        "x2 = tensor(4.0)\n",
        "x3 = tensor(5.0)\n",
        "\n",
        "#Printing the Jacobian\n",
        "print(jacobian(f,(x1,x2,x3)))"
      ],
      "metadata": {
        "colab": {
          "base_uri": "https://localhost:8080/"
        },
        "id": "-8qFRHq2-Eao",
        "outputId": "b648ae84-cb0b-49c2-b56f-0dc9f7a1a3fe"
      },
      "execution_count": 19,
      "outputs": [
        {
          "output_type": "stream",
          "name": "stdout",
          "text": [
            "((tensor(1.), tensor(1.), tensor(0.)), (tensor(5.), tensor(0.), tensor(3.)), (tensor(0.), tensor(48.), tensor(0.)))\n"
          ]
        }
      ]
    },
    {
      "cell_type": "code",
      "source": [
        "import sympy as sp\n",
        "# Define symbolic variables\n",
        "x, y = sp.symbols('x y')\n",
        "# Define a scalar-valued function\n",
        "scalar_function = x**2 + 2 * y**2 + 3 * x * y + 4\n",
        "# Compute the Hessian matrix\n",
        "hessian_matrix = sp.hessian(scalar_function, (x, y))\n",
        "# Evaluate the Hessian matrix at a specific point\n",
        "initial_point = {x: 1, y: 2}\n",
        "hessian_at_point = hessian_matrix.subs(initial_point)\n",
        "# Display the result\n",
        "print(\"Scalar Function:\")\n",
        "print(scalar_function)\n",
        "print(\"\\nHessian Matrix:\")\n",
        "print(hessian_matrix)\n",
        "print(\"\\nHessian Matrix at the initial point:\")\n",
        "print(hessian_at_point)\n"
      ],
      "metadata": {
        "colab": {
          "base_uri": "https://localhost:8080/"
        },
        "id": "5sVgoBrQ-TOR",
        "outputId": "36f3e188-3639-45f1-d69c-9bf3c3faf446"
      },
      "execution_count": 20,
      "outputs": [
        {
          "output_type": "stream",
          "name": "stdout",
          "text": [
            "Scalar Function:\n",
            "x**2 + 3*x*y + 2*y**2 + 4\n",
            "\n",
            "Hessian Matrix:\n",
            "Matrix([[2, 3], [3, 4]])\n",
            "\n",
            "Hessian Matrix at the initial point:\n",
            "Matrix([[2, 3], [3, 4]])\n"
          ]
        }
      ]
    }
  ]
}